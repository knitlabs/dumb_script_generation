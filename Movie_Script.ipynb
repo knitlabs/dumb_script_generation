{
  "nbformat": 4,
  "nbformat_minor": 0,
  "metadata": {
    "colab": {
      "name": "Movie Script.ipynb",
      "provenance": [],
      "collapsed_sections": []
    },
    "kernelspec": {
      "name": "python3",
      "display_name": "Python 3"
    },
    "accelerator": "GPU"
  },
  "cells": [
    {
      "cell_type": "code",
      "metadata": {
        "id": "W6T8948tqUn3",
        "colab_type": "code",
        "colab": {}
      },
      "source": [
        "%reload_ext autoreload\n",
        "%autoreload 2\n",
        "%matplotlib inline"
      ],
      "execution_count": 0,
      "outputs": []
    },
    {
      "cell_type": "code",
      "metadata": {
        "id": "ZlkF2WhIjQc3",
        "colab_type": "code",
        "colab": {}
      },
      "source": [
        "from fastai.text import * \n"
      ],
      "execution_count": 0,
      "outputs": []
    },
    {
      "cell_type": "code",
      "metadata": {
        "id": "qvHehR2dwX6d",
        "colab_type": "code",
        "outputId": "c4135498-1fe0-43f5-ee90-c07642404e0e",
        "colab": {
          "base_uri": "https://localhost:8080/",
          "height": 126
        }
      },
      "source": [
        "from google.colab import drive\n",
        "drive.mount(\"/content/gdrive\")"
      ],
      "execution_count": 0,
      "outputs": [
        {
          "output_type": "stream",
          "text": [
            "Go to this URL in a browser: https://accounts.google.com/o/oauth2/auth?client_id=947318989803-6bn6qk8qdgf4n4g3pfee6491hc0brc4i.apps.googleusercontent.com&redirect_uri=urn%3aietf%3awg%3aoauth%3a2.0%3aoob&response_type=code&scope=email%20https%3a%2f%2fwww.googleapis.com%2fauth%2fdocs.test%20https%3a%2f%2fwww.googleapis.com%2fauth%2fdrive%20https%3a%2f%2fwww.googleapis.com%2fauth%2fdrive.photos.readonly%20https%3a%2f%2fwww.googleapis.com%2fauth%2fpeopleapi.readonly\n",
            "\n",
            "Enter your authorization code:\n",
            "··········\n",
            "Mounted at /content/gdrive\n"
          ],
          "name": "stdout"
        }
      ]
    },
    {
      "cell_type": "code",
      "metadata": {
        "id": "PODQ1bg0mljF",
        "colab_type": "code",
        "colab": {}
      },
      "source": [
        "path = \"/content/gdrive/My Drive/movie_script_folder\""
      ],
      "execution_count": 0,
      "outputs": []
    },
    {
      "cell_type": "code",
      "metadata": {
        "id": "_GJirv2xFtZ2",
        "colab_type": "code",
        "outputId": "75cbc7ff-d163-4e7b-f54d-31084b6144e4",
        "colab": {
          "base_uri": "https://localhost:8080/",
          "height": 17
        }
      },
      "source": [
        "script_data = TextLMDataBunch.from_folder(path=path)"
      ],
      "execution_count": 0,
      "outputs": [
        {
          "output_type": "display_data",
          "data": {
            "text/html": [
              ""
            ],
            "text/plain": [
              "<IPython.core.display.HTML object>"
            ]
          },
          "metadata": {
            "tags": []
          }
        },
        {
          "output_type": "display_data",
          "data": {
            "text/html": [
              ""
            ],
            "text/plain": [
              "<IPython.core.display.HTML object>"
            ]
          },
          "metadata": {
            "tags": []
          }
        }
      ]
    },
    {
      "cell_type": "code",
      "metadata": {
        "id": "9dvdab0VI5Xa",
        "colab_type": "code",
        "outputId": "2ad025a0-74d4-4bab-ef8e-4d9de6e16d91",
        "colab": {
          "base_uri": "https://localhost:8080/",
          "height": 363
        }
      },
      "source": [
        "script_data.show_batch()"
      ],
      "execution_count": 0,
      "outputs": [
        {
          "output_type": "display_data",
          "data": {
            "text/html": [
              "<table border=\"1\" class=\"dataframe\">\n",
              "  <thead>\n",
              "    <tr style=\"text-align: right;\">\n",
              "      <th>idx</th>\n",
              "      <th>text</th>\n",
              "    </tr>\n",
              "  </thead>\n",
              "  <tbody>\n",
              "    <tr>\n",
              "      <td>0</td>\n",
              "      <td>\\n  emerges , a new breed of solider \\n  must fight it . \\n \\n  -- xxup general xxup clayton \" xxup hawk \" xxup abernathy \\n \\n  xxup ext . xxup the xxup bastille - xxup paris - xxup night \\n \\n  a xxup heavy xxup night xxup mist swirls around the imposing stone walls of \\n  the xxmaj bastille . xxup prison</td>\n",
              "    </tr>\n",
              "    <tr>\n",
              "      <td>1</td>\n",
              "      <td>? xxmaj if the xxmaj saudis cracked this \\n  xxmaj cell while these servants were \\n  pouring coffee , xxmaj al - xxmaj jazeera still \\n  leads the story with your xxmaj team . \\n \\n  xxup ronald xxup fleury \\n  xxmaj have you been to the crime - scene ? \\n \\n  xxup damon xxup schmidt \\n  xxmaj no- \\n \\n</td>\n",
              "    </tr>\n",
              "    <tr>\n",
              "      <td>2</td>\n",
              "      <td>coning from her bedroom . xxmaj she gets a flashlight out of \\n \\t a drawer and starts down the hallway . \\n \\n \\t\\t\\t\\t\\t xxup julie ( cont'd ) \\n \\t\\t\\t\\t ( fatalistic ) \\n \\t\\t\\t xxmaj let 's just do it . \\n \\n \\t xxmaj she moves faster toward her bedroom . she listens outside the doorway . \\n \\t xxmaj it sounds like someone 's in</td>\n",
              "    </tr>\n",
              "    <tr>\n",
              "      <td>3</td>\n",
              "      <td>your xxmaj aunt have an \\n \\t\\t understanding . xxmaj so here 's the key and you \\n \\t\\t need anything , just give a holler . \\n \\t\\t\\t ( xxmaj coco hands xxmaj betty the key ) \\n \\t\\t xxmaj everybody in this building 's pretty much \\n \\t\\t okay with me or they would n't be here . \\n \\t\\t xxmaj if you want , later i 'll</td>\n",
              "    </tr>\n",
              "    <tr>\n",
              "      <td>4</td>\n",
              "      <td>you believe that ? \\n \\n  xxup joel \\n  xxmaj no he-- ! \\n \\n  ( xxup catches xxup himself ) \\n  xxmaj what ? xxmaj where did you hear that ? \\n \\n  xxup brian \\n  xxmaj that 's what she told xxmaj mary . \\n \\n  xxup joel \\n  xxmaj but ... xxmaj step ? xxmaj does he even know</td>\n",
              "    </tr>\n",
              "  </tbody>\n",
              "</table>"
            ],
            "text/plain": [
              "<IPython.core.display.HTML object>"
            ]
          },
          "metadata": {
            "tags": []
          }
        }
      ]
    },
    {
      "cell_type": "code",
      "metadata": {
        "id": "4VhGcg1pJCeS",
        "colab_type": "code",
        "outputId": "d74f3831-e319-4b06-8bc5-b6a878802c94",
        "colab": {
          "base_uri": "https://localhost:8080/",
          "height": 35
        }
      },
      "source": [
        "learner = language_model_learner(script_data,AWD_LSTM)"
      ],
      "execution_count": 0,
      "outputs": [
        {
          "output_type": "stream",
          "text": [
            "Downloading https://s3.amazonaws.com/fast-ai-modelzoo/wt103-fwd\n"
          ],
          "name": "stdout"
        },
        {
          "output_type": "display_data",
          "data": {
            "text/html": [
              ""
            ],
            "text/plain": [
              "<IPython.core.display.HTML object>"
            ]
          },
          "metadata": {
            "tags": []
          }
        }
      ]
    },
    {
      "cell_type": "code",
      "metadata": {
        "id": "qtq1aHZhJheA",
        "colab_type": "code",
        "outputId": "dff4e82c-c4a8-4d84-e594-0d2b6a038cc8",
        "colab": {
          "base_uri": "https://localhost:8080/",
          "height": 143
        }
      },
      "source": [
        "learner.fit_one_cycle(3)"
      ],
      "execution_count": 0,
      "outputs": [
        {
          "output_type": "display_data",
          "data": {
            "text/html": [
              "<table border=\"1\" class=\"dataframe\">\n",
              "  <thead>\n",
              "    <tr style=\"text-align: left;\">\n",
              "      <th>epoch</th>\n",
              "      <th>train_loss</th>\n",
              "      <th>valid_loss</th>\n",
              "      <th>accuracy</th>\n",
              "      <th>time</th>\n",
              "    </tr>\n",
              "  </thead>\n",
              "  <tbody>\n",
              "    <tr>\n",
              "      <td>0</td>\n",
              "      <td>3.965864</td>\n",
              "      <td>3.901268</td>\n",
              "      <td>0.316353</td>\n",
              "      <td>22:52</td>\n",
              "    </tr>\n",
              "    <tr>\n",
              "      <td>1</td>\n",
              "      <td>4.087270</td>\n",
              "      <td>3.818853</td>\n",
              "      <td>0.322760</td>\n",
              "      <td>22:47</td>\n",
              "    </tr>\n",
              "    <tr>\n",
              "      <td>2</td>\n",
              "      <td>4.148728</td>\n",
              "      <td>3.800866</td>\n",
              "      <td>0.325879</td>\n",
              "      <td>22:47</td>\n",
              "    </tr>\n",
              "  </tbody>\n",
              "</table>"
            ],
            "text/plain": [
              "<IPython.core.display.HTML object>"
            ]
          },
          "metadata": {
            "tags": []
          }
        }
      ]
    },
    {
      "cell_type": "code",
      "metadata": {
        "id": "Ecqks6icENq1",
        "colab_type": "code",
        "colab": {}
      },
      "source": [
        "learner.path = Path(\".\")\n",
        "learner.export(\"script.pkl\")"
      ],
      "execution_count": 0,
      "outputs": []
    },
    {
      "cell_type": "code",
      "metadata": {
        "id": "y335IjeQeIBk",
        "colab_type": "code",
        "outputId": "84a7dfd5-e405-4da0-da14-85f8c8fde095",
        "colab": {
          "base_uri": "https://localhost:8080/",
          "height": 17
        }
      },
      "source": [
        "learner = load_learner(path=\".\",file=\"script.pkl\")"
      ],
      "execution_count": 0,
      "outputs": [
        {
          "output_type": "display_data",
          "data": {
            "text/html": [
              ""
            ],
            "text/plain": [
              "<IPython.core.display.HTML object>"
            ]
          },
          "metadata": {
            "tags": []
          }
        },
        {
          "output_type": "display_data",
          "data": {
            "text/html": [
              ""
            ],
            "text/plain": [
              "<IPython.core.display.HTML object>"
            ]
          },
          "metadata": {
            "tags": []
          }
        }
      ]
    },
    {
      "cell_type": "code",
      "metadata": {
        "id": "D3_C5iIEb9ba",
        "colab_type": "code",
        "colab": {}
      },
      "source": [
        "n_words = 2000\n",
        "text = \"\""
      ],
      "execution_count": 0,
      "outputs": []
    },
    {
      "cell_type": "code",
      "metadata": {
        "id": "xVMHd6ihFFPD",
        "colab_type": "code",
        "outputId": "557679fd-fc8c-4709-ea75-e37ceb7e8e3c",
        "colab": {
          "base_uri": "https://localhost:8080/",
          "height": 1000
        }
      },
      "source": [
        "print(learner.predict(text,n_words=n_words,temperature = 0.75))"
      ],
      "execution_count": 0,
      "outputs": [
        {
          "output_type": "stream",
          "text": [
            " \n",
            "  \n",
            "  two first - \n",
            "  motion \n",
            " \n",
            "  CHRIS \n",
            "  The dark feel \n",
            "  Colors , for Charlie 's car . \n",
            " \n",
            "  EXT . CHURCH - CONTINUOUS \n",
            " \n",
            "  The same house is parked on the highway . It is a long time . \n",
            " \n",
            "  EXT . STREET BAR - DAY \n",
            " \n",
            "  He crawls out of the car , slowly past the street . \n",
            " \n",
            " \t He pulls out the car , one of the Lincoln 's car headlights . \n",
            "  The drives - off drive . \n",
            " \n",
            "  98 . THE Chevy drives . The car drives . \n",
            " \n",
            "  EXT . STREET PARKING LOT - DAY \n",
            " \n",
            "  We see a car parked near the curb . \n",
            " \n",
            "  DRIVING \n",
            "  In the distance , we see the car from the cabin . We see \n",
            "  the day ... \n",
            " \n",
            "  INT . CAR HOUSE - MOMENTS LATER \n",
            " \n",
            "  Int . DRIVING HOME - DAY \n",
            " \n",
            "  The car drives past the curb . \n",
            " \n",
            "  Int . CAR SHUTTLE FEDERAL BUILDING , EXT . HIS Car - DAY . Int . TAXI CAR - CONTINUOUS - CONTINUOUS \n",
            " \n",
            "  a taxi DRIVER comes out of the cab , leaving the cab alone , and Driver looks back . She looks at the car . \n",
            " \n",
            "  INT . CAR 'S CAR - NIGHT \n",
            " \n",
            "  The car drives away . The driver bumps into a TAXI . After a beat , Driver exits . \n",
            " \n",
            "  \n",
            " \n",
            "  a TAXI DRIVER \n",
            "  Driver . \n",
            " \n",
            "  DRIVER \n",
            "  ( off ) \n",
            "  You need to know , Driver 's . \n",
            " \n",
            "  DRIVER \n",
            "  We 'll go out the car . \n",
            " \n",
            "  Driver still stares at the driver . \n",
            " \n",
            "  DRIVER \n",
            "  Will you , you \n",
            "  get someone else to leave . \n",
            " \n",
            "  Driver \n",
            "  Come on . We can \n",
            "  get a problem . The car is \n",
            "  coming . \n",
            " \n",
            "  DRIVER \n",
            "  ( O.S. ) \n",
            "  It 's okay . Let 's go from Driver . \n",
            "  Driver \n",
            "  You have to go , \n",
            " \n",
            "  DRIVER \n",
            "  You ca n't see . We 're going to get in . \n",
            " \n",
            "  DRIVER ( CONT'D ) \n",
            "  Do n't worry , you want to go back . \n",
            " \n",
            "  Driver ( cont'd ) \n",
            "  We 're supposed to be thinking about \n",
            "  Driver . It 's not a driver . You do n't want to \n",
            "  look like you have ... \n",
            " \n",
            "  He looks back at the car , \n",
            "  Driver . What 's that ? He \n",
            " \t\t got a Driver \n",
            "  Anything else ... And you 're going to get him out of the car . \n",
            " \n",
            "  Driver looks up at him . He smiles at the driver . \n",
            " \n",
            "  DRIVER \n",
            "  We got done . i 'm glad you 're \n",
            "  ready . \n",
            " \n",
            "  Driver \n",
            "  Yes , i 'm sure someone 's got ... But it 's going to be \n",
            "  not . Why do n't you think you 're not going to send it to the driver , how do you say ? You sure ... let 's go . Please . \n",
            "  The driver , Driver . Yes . We have a good time . \n",
            " \n",
            "  DRIVER \n",
            "  ( Michael ) \n",
            "  Okay . i 'll \n",
            "  get a call . It 's really right ... \n",
            " \n",
            "  DRIVER \n",
            "  Where did Driver come ? \n",
            " \n",
            "  Driver ( CONT'D ) \n",
            "  And that 's why i 'm going to do that . \n",
            " \n",
            "  DRIVER \n",
            "  You know ... because they 're \n",
            "  going to have the ( with first hand ) \n",
            "  What ? Let 's do it . \n",
            " \n",
            "  DRIVER \n",
            "  Where \n",
            "  would you think you 're going to ? For you ? \n",
            " \n",
            "  Driver \n",
            "  You hear it on the bridge . \n",
            " \n",
            "  DRIVER \n",
            "  Yes , that 's not there . \n",
            " \n",
            "  Driver \n",
            "  Driver , \n",
            "  And ( DRIVER ) \n",
            "  Is the bus parked ? And Driver \n",
            "  has stop . \n",
            " \n",
            "  Driver approaches the driver , then sees the driver . \n",
            " \n",
            "  Driver walks away . Driver \n",
            "  takes a beat . \n",
            " \n",
            "  DRIVER \n",
            "  You do n't \n",
            "  want to hurt \n",
            "  Driver , \n",
            "  Driver \n",
            "  i wanna do it . \n",
            " \n",
            "  DRIVER \n",
            "  You know , it 's bad . \n",
            "  Driver \n",
            " \t\t It 's not a good night . \n",
            " \n",
            "  Driver \n",
            "  What 's you going to gather ? \n",
            " \n",
            "  DRIVER \n",
            "  You got a car \n",
            "  and Driver \n",
            "  We 're just in the car \n",
            " \n",
            "  DRIVER \n",
            "  Driver ! \n",
            " \n",
            "  Driver nods . Driver is driving . Driver \n",
            "  i 'll call you . He 's ready , right . \n",
            " \n",
            "  DRIVER \n",
            "  Tell me that Driver \n",
            "  ( to Driver ) \n",
            "  It 's your fault . \n",
            " \n",
            "  Driver \n",
            "  Listen . But we have to be talkin ' to \n",
            "  Driver . \n",
            "  Driver . You 're sick Driver \n",
            "  -- i 'm not . You 've got to offer me the job . \n",
            " \n",
            "  DRIVER \n",
            "  How about that ? You 're going to make a \n",
            "  job , \n",
            "  i 'm fine ? \n",
            " \n",
            "  DRIVER \n",
            "  Driver is Driver . i 'm not sorry , but he \n",
            "  made my choice . You lost your \n",
            "  \n",
            "  \n",
            "  Driver . You got ta get Driver , Driver . This guy ... i do n't know right -- i 'm the one who 's \n",
            "  wrong . \n",
            " \n",
            "  Driver \n",
            "  Please take the bus . No . Yes . But i know the Driver 's Driver \n",
            "  Listen ... \n",
            "  Man . i 'm going to get you out of \n",
            "  focus , \n",
            "  i 've got a \n",
            "  gun . \n",
            "  Driver was \n",
            "  getting \n",
            "  . \n",
            "  That 's why i do n't want to say it . If you 're \n",
            "  looking for you , you 'll \n",
            "  call me \n",
            "  Driver . That 's why we did n't . \n",
            " \n",
            "  DRIVER \n",
            "  We can you think Driver \n",
            "  i 'm there just to be another \n",
            "  one ? \n",
            " \n",
            "  DRIVER \n",
            "  Who 's \n",
            "  Driver ? \n",
            " \n",
            "  DRIVER \n",
            "  You wanna be Driver . You 're seven \n",
            "  Driver ? \n",
            " \n",
            "  DRIVER \n",
            "  The driver \n",
            "  Driver , you mean ... \n",
            " \n",
            "  Driver \n",
            "  Is we gon na do the hell ? \n",
            " \n",
            "  DRIVER \n",
            "  Your dad 's an going \n",
            "  big DRIVER . \n",
            " \n",
            "  DRIVER \n",
            "  Why do n't i do n't think you \n",
            "  know i want \n",
            "  you to be sorry ? \n",
            " \n",
            "  Driver looks to the driver . \n",
            " \n",
            "  DRIVER \n",
            " \n",
            "  Driver is a \n",
            "  very smart chauffeur . \n",
            "  Driver does \n",
            "  Driver 's \n",
            "  Driver 's Driver 's Driver 's off ... \n",
            " \n",
            "  DRIVER \n",
            "  Well , i guess i do n't know my name . It 's say it \n",
            "  is right . \n",
            " \n",
            "  Driver \n",
            "  Thinks about it for a while . \n",
            " \n",
            "  Driver \n",
            "  ( and cont'd ) \n",
            "  What 's the driver ? \n",
            " \n",
            "  Driver \n",
            "  You need to get \n",
            "  my car \n",
            "  . \n",
            " \n",
            "  Driver \n",
            "  i 'm \n",
            "  not here . \n",
            " \n",
            "  DRIVER \n",
            "  It is not a word . You do n't know why the driver 's all right . \n",
            "  He 's not getting \n",
            "  there . Right . \n",
            " \n",
            "  DRIVER \n",
            "  Now . \n",
            " \n",
            "  Driver 's \n",
            "  Driver 's Driver 's Driver 's Driver 's Driver 's \n",
            "  DRIVER 's Driver 's Driver 's DRIVER 's seat . \n",
            " \n",
            "  DRIVER Driver \n",
            "  He does n't get any \n",
            "  money or \n",
            "  Driver . The driver 's gon na kill me . You met Driver \n",
            "  i 'm a \n",
            "  DRIVER ? \n",
            " \n",
            "  Driver \n",
            "  Driver 's Driver 's Truck . He stops and \n",
            "  stares at the driver . \n",
            " \n",
            "  DRIVER \n",
            "  You do n't think you 're in love \n",
            "  when she 's going for the driver 's seat . You can do the cab . i 'm not going to let him \n",
            "  down . \n",
            " \n",
            "  Driver \n",
            "  Driver 's . He 's a \n",
            "  Driver . His \n",
            "  father \n",
            "  does n't know where he was \n",
            "  about to take out . \n",
            " \n",
            "  DRIVER \n",
            "  Let 's go . \n",
            " \n",
            "  DRIVER \n",
            "  Hey , what do you say ? Driver 's \n",
            "  Driver , Driver . \n",
            " \n",
            "  Driver \n",
            "  i 'm sorry , i 'm not \n",
            "  my car . \n",
            " \n",
            "  Driver \n",
            "  You do n't think i \n",
            "  think i could . \n",
            " \n",
            "  DRIVER \n",
            "  You should do n't stop it . We have something \n",
            "  to do ? We 've always seen \n",
            "  people in the car \n",
            "  and Driver has \n",
            "  heard what you mean . \n",
            " \n",
            "  DRIVER \n",
            "  You 're \n",
            "  from the street \n",
            "  . \n",
            " \n",
            "  Driver \n",
            "  That 's going to be my \n",
            "  first thing . It 's the right car . \n",
            " \n",
            "  Driver \n",
            "  You think it 's okay ? \n",
            " \n",
            "  Driver \n",
            "  You 're \n",
            "  going to be in trouble ... You know how you 're going to feel because of the driver \n",
            "  who just could n't be \n",
            "  Driver . Wait a minute . \n",
            " \n",
            "  DRIVER \n",
            "  We need to know it 's . You 'll know that ... \n",
            " \n",
            "  DRIVER \n",
            "  Thanks , i 'm sorry . \n",
            "  Please , i 'm not here . And not \n",
            "  her \n",
            "  right . \n",
            " \n",
            "  DRIVER \n",
            "  ( continuing ) \n",
            "  Driver \n",
            "  Driver \n",
            "  i 'm sorry , he \n",
            "  said i was n't there ! \n",
            " \n",
            "  Driver \n",
            "  Are you ? \n",
            " \n",
            "  DRIVER \n",
            "  Wait a minute ? \n",
            " \n",
            "  DRIVER \n",
            "  Okay ? \n",
            " \n",
            "  DRIVER \n",
            "  i 'm sorry ... How does Driver say what he needs ? \n",
            " \n",
            "  DRIVER \n",
            "  No , that 's why i 'm busy . \n",
            " \n",
            "  Driver \n",
            "  Good luck , you 're \n",
            "  right . \n",
            " \n",
            "  DRIVER \n",
            "  i bet you 're not him . \n",
            " \n",
            "  DRIVER \n",
            "  Okay , okay\n"
          ],
          "name": "stdout"
        }
      ]
    }
  ]
}